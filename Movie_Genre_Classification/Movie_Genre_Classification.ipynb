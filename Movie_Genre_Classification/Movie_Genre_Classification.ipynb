{
 "cells": [
  {
   "cell_type": "markdown",
   "metadata": {},
   "source": [
    "## Implementing Movie genre classification model based on description"
   ]
  },
  {
   "cell_type": "markdown",
   "metadata": {},
   "source": [
    "### Importing the datasets"
   ]
  },
  {
   "cell_type": "code",
   "execution_count": 2,
   "execution_count": 2,
   "metadata": {},
   "outputs": [],
   "source": [
    "import pandas as pd\n",
    "import matplotlib.pyplot as plt\n",
    "import nltk\n",
    "from nltk.tokenize import word_tokenize\n",
    "from nltk.corpus import stopwords\n",
    "from sklearn.model_selection import train_test_split\n",
    "from sklearn.feature_extraction.text import TfidfVectorizer\n",
    "from sklearn.linear_model import LogisticRegression\n",
    "from sklearn.metrics import accuracy_score, classification_report, confusion_matrix, ConfusionMatrixDisplay\n",
    "from sklearn.naive_bayes import MultinomialNB\n",
    "import re"
   ]
  },
  {
   "cell_type": "code",
   "execution_count": 3,
   "metadata": {},
   "outputs": [],
   "source": [
    "train_path = \"Genre Classification Dataset/train_data.txt\"\n",
    "train_data = pd.read_csv(train_path, sep=':::', names=['Title', 'Genre', 'Description'], engine='python')"
   ]
  },
  {
   "cell_type": "code",
   "execution_count": 22,
   "metadata": {},
   "outputs": [],
   "source": [
    "test_path = \"Genre Classification Dataset/test_data_solution.txt\"\n",
    "test_data = pd.read_csv(test_path, sep=':::', names=['Id', 'Title', 'Description'], engine='python')"
   ]
  },
  {
   "cell_type": "markdown",
   "metadata": {},
   "source": [
    "## Understanding the data"
   ]
  },
  {
   "cell_type": "code",
   "execution_count": null,
   "metadata": {},
   "outputs": [],
   "source": [
    "train_data.describe()"
   ]
  },
  {
   "cell_type": "code",
   "execution_count": null,
   "metadata": {},
   "outputs": [],
   "source": [
    "test_data[\"Title\"]"
   ]
  },
  {
   "cell_type": "code",
   "execution_count": null,
   "metadata": {},
   "outputs": [],
   "source": [
    "# checking for missing values\n",
    "print(train_data.isnull().sum())\n",
    "test_data.isnull().sum()"
   ]
  },
  {
   "cell_type": "code",
   "execution_count": null,
   "metadata": {},
   "outputs": [],
   "source": [
    "# checking frequency of each genre\n",
    "class_distribution = train_data['Genre'].value_counts()\n",
    "plt.figure(figsize=(8, 6))\n",
    "class_distribution.plot(kind='bar', color='skyblue')\n",
    "plt.title('Class Distribution')\n",
    "plt.xlabel('Class')\n",
    "plt.ylabel('Frequency')\n",
    "plt.xticks(rotation=65)\n",
    "plt.show()"
   ]
  },
  {
   "cell_type": "code",
   "execution_count": null,
   "metadata": {},
   "outputs": [],
   "source": [
    "nltk.download('stopwords')\n",
    "stop_words = set(stopwords.words('english'))"
   ]
  },
  {
   "cell_type": "code",
   "execution_count": 10,
   "metadata": {},
   "outputs": [],
   "source": [
    "# preprocessing the text data\n",
    "def preprocess_text(text):\n",
    "    text = re.sub(r'[^\\w\\s]', '', text.lower())  # Remove punctuations\n",
    "    tokens = word_tokenize(text)\n",
    "    tokens = [word for word in tokens if word not in stop_words]\n",
    "    return \" \".join(tokens)\n",
    "\n",
    "train_data['Cleaned_Description'] = train_data['Description'].apply(preprocess_text)"
   ]
  },
  {
   "cell_type": "code",
   "execution_count": null,
   "metadata": {},
   "outputs": [],
   "source": [
    "train_data.head()"
   ]
  },
  {
   "cell_type": "code",
   "execution_count": 12,
   "metadata": {},
   "outputs": [],
   "source": [
    "# Using TF-IDF to convert text data to numerical data\n",
    "tfidf = TfidfVectorizer(max_features=5000)\n",
    "X = tfidf.fit_transform(train_data['Cleaned_Description'])\n",
    "y = train_data['Genre']"
   ]
  },
  {
   "cell_type": "code",
   "execution_count": 13,
   "metadata": {},
   "outputs": [],
   "source": [
    "# Splitting the data into training and testing sets\n",
    "X_train, X_test, y_train, y_test = train_test_split(X, y, test_size=0.2, random_state=42)"
   ]
  },
  {
   "cell_type": "code",
   "execution_count": null,
   "metadata": {},
   "outputs": [],
   "source": [
    "# Training a Logistic Regression model\n",
    "model_1 = LogisticRegression(max_iter=1000)\n",
    "model_1.fit(X_train, y_train)\n",
    "\n",
    "y_pred_1 = model_1.predict(X_test)\n",
    "accuracy_1 = accuracy_score(y_test, y_pred_1)\n",
    "print(\"Accuracy of Logistic Regression model: \", accuracy_1)\n",
    "\n",
    "print(\"Precision, Recall and F1 Score of Logistic Regression model: \")\n",
    "print(classification_report(y_test, y_pred_1))"
   ]
  },
  {
   "cell_type": "code",
   "execution_count": null,
   "metadata": {},
   "outputs": [],
   "source": [
    "# Now creating a model using Support Vector Machine\n",
    "from sklearn.svm import SVC\n",
    "# model_2 = SVC()\n",
    "# model_2.fit(X_train, y_train)\n",
    "# accuracy_2 = model_2.score(X_test, y_test)\n",
    "# print(\"Accuracy of Support Vector Machine model: \", accuracy_2)\n",
    "# print(\"Precision, Recall and F1 Score of SVC model: \")\n",
    "# print(classification_report(y_test, model_2.predict(X_test)))"
   ]
  },
  {
   "cell_type": "code",
   "execution_count": 41,
   "metadata": {},
   "outputs": [],
   "source": [
    "# seeing if scaling data helps in faster training of SVC model\n",
    "\n",
    "from sklearn.preprocessing import StandardScaler\n",
    "sc = StandardScaler(with_mean=False)\n",
    "X_train_scaled = sc.fit_transform(X_train)\n",
    "X_test_scaled = sc.fit_transform(X_test)\n",
    "model_2 = SVC()\n",
    "model_2.fit(X_train_scaled, y_train)\n",
    "accuracy_2 = model_2.score(X_test_scaled, y_test)"
   ]
  },
  {
   "cell_type": "code",
   "execution_count": null,
   "metadata": {},
   "outputs": [],
   "source": [
    "model_3 = MultinomialNB()\n",
    "model_3.fit(X_train, y_train)\n",
    "accuracy_3 = model_3.score(X_test, y_test)\n",
    "print(\"Accuracy of Multinomial Naive Bayes model: \", accuracy_3)\n",
    "print(\"Precision, Recall and F1 Score of Multinomial Naive Bayes model: \")\n",
    "print(classification_report(y_test, model_3.predict(X_test)))"
   ]
  },
  {
   "cell_type": "code",
   "execution_count": 36,
   "metadata": {},
   "outputs": [
    {
     "name": "stdout",
     "output_type": "stream",
     "text": [
      "Accuracy of Random Forest model:  0.5008761412893111\n",
      "Precision, Recall and F1 Score of Random Forest model: \n"
     ]
    },
    {
     "name": "stderr",
     "output_type": "stream",
     "text": [
      "c:\\Users\\vampi\\AppData\\Local\\Programs\\Python\\Python311\\Lib\\site-packages\\sklearn\\metrics\\_classification.py:1471: UndefinedMetricWarning: Precision and F-score are ill-defined and being set to 0.0 in labels with no predicted samples. Use `zero_division` parameter to control this behavior.\n",
      "  _warn_prf(average, modifier, msg_start, len(result))\n",
      "c:\\Users\\vampi\\AppData\\Local\\Programs\\Python\\Python311\\Lib\\site-packages\\sklearn\\metrics\\_classification.py:1471: UndefinedMetricWarning: Precision and F-score are ill-defined and being set to 0.0 in labels with no predicted samples. Use `zero_division` parameter to control this behavior.\n",
      "  _warn_prf(average, modifier, msg_start, len(result))\n"
     ]
    },
    {
     "name": "stdout",
     "output_type": "stream",
     "text": [
      "               precision    recall  f1-score   support\n",
      "\n",
      "      action        0.43      0.01      0.02       263\n",
      "       adult        0.92      0.10      0.18       112\n",
      "   adventure        0.48      0.10      0.17       139\n",
      "   animation        0.00      0.00      0.00       104\n",
      "   biography        0.00      0.00      0.00        61\n",
      "      comedy        0.47      0.31      0.37      1443\n",
      "       crime        1.00      0.01      0.02       107\n",
      " documentary        0.59      0.87      0.70      2659\n",
      "       drama        0.43      0.84      0.56      2697\n",
      "      family        1.00      0.03      0.06       150\n",
      "     fantasy        0.00      0.00      0.00        74\n",
      "   game-show        0.88      0.53      0.66        40\n",
      "     history        0.00      0.00      0.00        45\n",
      "      horror        0.59      0.19      0.29       431\n",
      "       music        0.61      0.19      0.29       144\n",
      "     musical        0.00      0.00      0.00        50\n",
      "     mystery        0.00      0.00      0.00        56\n",
      "        news        0.00      0.00      0.00        34\n",
      "  reality-tv        0.33      0.01      0.01       192\n",
      "     romance        0.00      0.00      0.00       151\n",
      "      sci-fi        0.50      0.06      0.10       143\n",
      "       short        0.56      0.12      0.19      1045\n",
      "       sport        0.69      0.12      0.20        93\n",
      "   talk-show        0.64      0.09      0.15        81\n",
      "    thriller        0.47      0.02      0.04       309\n",
      "         war        1.00      0.05      0.10        20\n",
      "     western        0.83      0.49      0.62       200\n",
      "\n",
      "     accuracy                           0.50     10843\n",
      "    macro avg       0.46      0.15      0.18     10843\n",
      " weighted avg       0.50      0.50      0.42     10843\n",
      "\n"
     ]
    },
    {
     "name": "stderr",
     "output_type": "stream",
     "text": [
      "c:\\Users\\vampi\\AppData\\Local\\Programs\\Python\\Python311\\Lib\\site-packages\\sklearn\\metrics\\_classification.py:1471: UndefinedMetricWarning: Precision and F-score are ill-defined and being set to 0.0 in labels with no predicted samples. Use `zero_division` parameter to control this behavior.\n",
      "  _warn_prf(average, modifier, msg_start, len(result))\n"
     ]
    }
   ],
   "source": [
    "from sklearn.ensemble import RandomForestClassifier, Gradient\n",
    "model_4=RandomForestClassifier()\n",
    "model_4.fit(X_train, y_train)\n",
    "y_pred_4 = model_4.predict(X_test)\n",
    "accuracy_4 = accuracy_score(y_test, y_pred_4)\n",
    "print(\"Accuracy of Random Forest model: \", accuracy_4)\n",
    "print(\"Precision, Recall and F1 Score of Random Forest model: \")\n",
    "print(classification_report(y_test, y_pred_4))"
   ]
  },
  {
   "cell_type": "code",
   "execution_count": null,
   "metadata": {},
   "outputs": [
    {
     "name": "stdout",
     "output_type": "stream",
     "text": [
      "Accuracy on test data:  0.6287453874538745\n"
     ]
    }
   ],
   "source": [
    "# now predicting genre of test data\n",
    "test_data['Cleaned_Description'] = test_data['Description'].apply(preprocess_text)\n",
    "X_test_data = tfidf.transform(test_data['Cleaned_Description'])\n",
    "model_1_preds = model_1.predict(X_test_data)\n",
    "\n",
    "print(\"Accuracy on test data: \", accuracy_score(test_data['Title'], model_1_preds))"
   ]
  },
  {
   "cell_type": "code",
   "execution_count": 34,
   "metadata": {},
   "outputs": [
    {
     "data": {
      "text/html": [
       "<div>\n",
       "<style scoped>\n",
       "    .dataframe tbody tr th:only-of-type {\n",
       "        vertical-align: middle;\n",
       "    }\n",
       "\n",
       "    .dataframe tbody tr th {\n",
       "        vertical-align: top;\n",
       "    }\n",
       "\n",
       "    .dataframe thead th {\n",
       "        text-align: right;\n",
       "    }\n",
       "</style>\n",
       "<table border=\"1\" class=\"dataframe\">\n",
       "  <thead>\n",
       "    <tr style=\"text-align: right;\">\n",
       "      <th></th>\n",
       "      <th>Id</th>\n",
       "      <th>Title</th>\n",
       "      <th>Description</th>\n",
       "      <th>Cleaned_Description</th>\n",
       "      <th>Predicted_Genre</th>\n",
       "    </tr>\n",
       "  </thead>\n",
       "  <tbody>\n",
       "    <tr>\n",
       "      <th>1</th>\n",
       "      <td>Edgar's Lunch (1998)</td>\n",
       "      <td>thriller</td>\n",
       "      <td>L.R. Brane loves his life - his car, his apar...</td>\n",
       "      <td>lr brane loves life car apartment job especial...</td>\n",
       "      <td>drama</td>\n",
       "    </tr>\n",
       "    <tr>\n",
       "      <th>2</th>\n",
       "      <td>La guerra de papá (1977)</td>\n",
       "      <td>comedy</td>\n",
       "      <td>Spain, March 1964: Quico is a very naughty ch...</td>\n",
       "      <td>spain march 1964 quico naughty child three bel...</td>\n",
       "      <td>drama</td>\n",
       "    </tr>\n",
       "    <tr>\n",
       "      <th>3</th>\n",
       "      <td>Off the Beaten Track (2010)</td>\n",
       "      <td>documentary</td>\n",
       "      <td>One year in the life of Albin and his family ...</td>\n",
       "      <td>one year life albin family shepherds north tra...</td>\n",
       "      <td>documentary</td>\n",
       "    </tr>\n",
       "    <tr>\n",
       "      <th>4</th>\n",
       "      <td>Meu Amigo Hindu (2015)</td>\n",
       "      <td>drama</td>\n",
       "      <td>His father has died, he hasn't spoken with hi...</td>\n",
       "      <td>father died hasnt spoken brother 10 years seri...</td>\n",
       "      <td>drama</td>\n",
       "    </tr>\n",
       "    <tr>\n",
       "      <th>5</th>\n",
       "      <td>Er nu zhai (1955)</td>\n",
       "      <td>drama</td>\n",
       "      <td>Before he was known internationally as a mart...</td>\n",
       "      <td>known internationally martial arts superstar b...</td>\n",
       "      <td>drama</td>\n",
       "    </tr>\n",
       "  </tbody>\n",
       "</table>\n",
       "</div>"
      ],
      "text/plain": [
       "                              Id          Title  \\\n",
       "1          Edgar's Lunch (1998)       thriller    \n",
       "2      La guerra de papá (1977)         comedy    \n",
       "3   Off the Beaten Track (2010)    documentary    \n",
       "4        Meu Amigo Hindu (2015)          drama    \n",
       "5             Er nu zhai (1955)          drama    \n",
       "\n",
       "                                         Description  \\\n",
       "1   L.R. Brane loves his life - his car, his apar...   \n",
       "2   Spain, March 1964: Quico is a very naughty ch...   \n",
       "3   One year in the life of Albin and his family ...   \n",
       "4   His father has died, he hasn't spoken with hi...   \n",
       "5   Before he was known internationally as a mart...   \n",
       "\n",
       "                                 Cleaned_Description Predicted_Genre  \n",
       "1  lr brane loves life car apartment job especial...          drama   \n",
       "2  spain march 1964 quico naughty child three bel...          drama   \n",
       "3  one year life albin family shepherds north tra...    documentary   \n",
       "4  father died hasnt spoken brother 10 years seri...          drama   \n",
       "5  known internationally martial arts superstar b...          drama   "
      ]
     },
     "execution_count": 34,
     "metadata": {},
     "output_type": "execute_result"
    }
   ],
   "source": [
    "test_data.head()"
   ]
  },
  {
   "cell_type": "code",
   "execution_count": 35,
   "metadata": {},
   "outputs": [
    {
     "name": "stdout",
     "output_type": "stream",
     "text": [
      "Accuracy on test data:  0.47440959409594097\n"
     ]
    }
   ],
   "source": [
    "# now predicting genre of test data\n",
    "model_4_preds = model_4.predict(X_test_data)\n",
    "\n",
    "print(\"Accuracy on test data: \", accuracy_score(test_data['Title'], model_4_preds))"
   ]
  },
  {
   "cell_type": "code",
   "execution_count": 32,
   "metadata": {},
   "outputs": [
    {
     "name": "stdout",
     "output_type": "stream",
     "text": [
      "Accuracy on test data:  0.5186715867158671\n"
     ]
    }
   ],
   "source": [
    "# now predicting genre of test data\n",
    "model_3_preds = model_3.predict(X_test_data)\n",
    "\n",
    "print(\"Accuracy on test data: \", accuracy_score(test_data['Title'], model_3_preds))"
   ]
  },
  {
   "cell_type": "code",
   "execution_count": null,
   "metadata": {},
   "outputs": [],
   "source": [
    "test_data.head()"
   ]
  },
  {
   "cell_type": "code",
   "execution_count": null,
   "metadata": {},
   "outputs": [
    {
     "data": {
      "text/plain": [
       "['Random_Forest.pkl']"
      ]
     },
     "execution_count": 47,
     "metadata": {},
     "output_type": "execute_result"
    }
   ],
   "source": [
    "import joblib\n",
    "# saving the models\n",
    "joblib.dump(model_1, 'logistic.pkl') \n",
    "joblib.dump(model_2, 'SVC.pkl')\n",
    "joblib.dump(model_3, 'Naive_Bayes.pkl')\n",
    "joblib.dump(model_4, 'Random_Forest.pkl')"
   ]
  },
  {
   "cell_type": "code",
   "execution_count": null,
   "metadata": {},
   "outputs": [
    {
     "name": "stderr",
     "output_type": "stream",
     "text": [
      "c:\\Users\\vampi\\AppData\\Local\\Programs\\Python\\Python311\\Lib\\site-packages\\keras\\src\\layers\\core\\dense.py:87: UserWarning: Do not pass an `input_shape`/`input_dim` argument to a layer. When using Sequential models, prefer using an `Input(shape)` object as the first layer in the model instead.\n",
      "  super().__init__(activity_regularizer=activity_regularizer, **kwargs)\n",
      "c:\\Users\\vampi\\AppData\\Local\\Programs\\Python\\Python311\\Lib\\site-packages\\keras\\src\\layers\\activations\\leaky_relu.py:41: UserWarning: Argument `alpha` is deprecated. Use `negative_slope` instead.\n",
      "  warnings.warn(\n"
     ]
    },
    {
     "name": "stdout",
     "output_type": "stream",
     "text": [
      "Epoch 1/10\n",
      "\u001b[1m678/678\u001b[0m \u001b[32m━━━━━━━━━━━━━━━━━━━━\u001b[0m\u001b[37m\u001b[0m \u001b[1m28s\u001b[0m 38ms/step - accuracy: 0.4161 - loss: 2.1141 - val_accuracy: 0.5645 - val_loss: 1.4815\n",
      "Epoch 2/10\n",
      "\u001b[1m678/678\u001b[0m \u001b[32m━━━━━━━━━━━━━━━━━━━━\u001b[0m\u001b[37m\u001b[0m \u001b[1m41s\u001b[0m 38ms/step - accuracy: 0.6156 - loss: 1.3343 - val_accuracy: 0.5827 - val_loss: 1.4112\n",
      "Epoch 3/10\n",
      "\u001b[1m678/678\u001b[0m \u001b[32m━━━━━━━━━━━━━━━━━━━━\u001b[0m\u001b[37m\u001b[0m \u001b[1m44s\u001b[0m 41ms/step - accuracy: 0.6793 - loss: 1.0759 - val_accuracy: 0.5799 - val_loss: 1.4226\n",
      "Epoch 4/10\n",
      "\u001b[1m678/678\u001b[0m \u001b[32m━━━━━━━━━━━━━━━━━━━━\u001b[0m\u001b[37m\u001b[0m \u001b[1m25s\u001b[0m 37ms/step - accuracy: 0.7417 - loss: 0.8414 - val_accuracy: 0.5739 - val_loss: 1.5124\n",
      "Epoch 5/10\n",
      "\u001b[1m678/678\u001b[0m \u001b[32m━━━━━━━━━━━━━━━━━━━━\u001b[0m\u001b[37m\u001b[0m \u001b[1m39s\u001b[0m 34ms/step - accuracy: 0.8101 - loss: 0.6244 - val_accuracy: 0.5673 - val_loss: 1.6448\n",
      "Epoch 6/10\n",
      "\u001b[1m678/678\u001b[0m \u001b[32m━━━━━━━━━━━━━━━━━━━━\u001b[0m\u001b[37m\u001b[0m \u001b[1m24s\u001b[0m 35ms/step - accuracy: 0.8634 - loss: 0.4437 - val_accuracy: 0.5598 - val_loss: 1.8150\n",
      "Epoch 7/10\n",
      "\u001b[1m678/678\u001b[0m \u001b[32m━━━━━━━━━━━━━━━━━━━━\u001b[0m\u001b[37m\u001b[0m \u001b[1m27s\u001b[0m 39ms/step - accuracy: 0.9034 - loss: 0.3130 - val_accuracy: 0.5592 - val_loss: 2.0327\n",
      "Epoch 8/10\n",
      "\u001b[1m678/678\u001b[0m \u001b[32m━━━━━━━━━━━━━━━━━━━━\u001b[0m\u001b[37m\u001b[0m \u001b[1m25s\u001b[0m 36ms/step - accuracy: 0.9294 - loss: 0.2293 - val_accuracy: 0.5577 - val_loss: 2.2291\n",
      "Epoch 9/10\n",
      "\u001b[1m678/678\u001b[0m \u001b[32m━━━━━━━━━━━━━━━━━━━━\u001b[0m\u001b[37m\u001b[0m \u001b[1m24s\u001b[0m 35ms/step - accuracy: 0.9474 - loss: 0.1746 - val_accuracy: 0.5535 - val_loss: 2.4016\n",
      "Epoch 10/10\n",
      "\u001b[1m678/678\u001b[0m \u001b[32m━━━━━━━━━━━━━━━━━━━━\u001b[0m\u001b[37m\u001b[0m \u001b[1m25s\u001b[0m 37ms/step - accuracy: 0.9588 - loss: 0.1364 - val_accuracy: 0.5547 - val_loss: 2.5343\n"
     ]
    },
    {
     "name": "stderr",
     "output_type": "stream",
     "text": [
      "WARNING:absl:You are saving your model as an HDF5 file via `model.save()` or `keras.saving.save_model(model)`. This file format is considered legacy. We recommend using instead the native Keras format, e.g. `model.save('my_model.keras')` or `keras.saving.save_model(model, 'my_model.keras')`. \n"
     ]
    }
   ],
   "source": [
    "from tensorflow.keras.models import Sequential\n",
    "from tensorflow.keras.layers import Dense, Dropout\n",
    "from sklearn.preprocessing import LabelEncoder\n",
    "from tensorflow.keras.layers import LeakyReLU\n",
    "\n",
    "label_encoder = LabelEncoder()\n",
    "y_train_encoded = label_encoder.fit_transform(y_train)\n",
    "y_test_encoded = label_encoder.transform(y_test)\n",
    "\n",
    "# Define the model\n",
    "model_5 = Sequential()\n",
    "model_5.add(Dense(512, input_dim=X_train.shape[1], activation='relu'))\n",
    "model_5.add(Dropout(0.5))\n",
    "model_5.add(Dense(256, activation='relu'))\n",
    "model_5.add(LeakyReLU(alpha=0.1))\n",
    "model_5.add(Dropout(0.5))\n",
    "model_5.add(Dense(len(train_data['Genre'].unique()), activation='softmax'))\n",
    "\n",
    "model_5.compile(loss='sparse_categorical_crossentropy', optimizer='adam', metrics=['accuracy'])\n",
    "\n",
    "model_5.fit(X_train, y_train_encoded, \n",
    "            epochs=10, batch_size=64, validation_data=(X_test, y_test_encoded))\n",
    "\n",
    "model_5.save('deep_learning_model.h5')"
   ]
  },
  {
   "cell_type": "code",
   "execution_count": 56,
   "metadata": {},
   "outputs": [
    {
     "name": "stdout",
     "output_type": "stream",
     "text": [
      "\u001b[1m339/339\u001b[0m \u001b[32m━━━━━━━━━━━━━━━━━━━━\u001b[0m\u001b[37m\u001b[0m \u001b[1m2s\u001b[0m 6ms/step - accuracy: 0.5511 - loss: 2.5787\n",
      "0.5547357797622681\n"
     ]
    }
   ],
   "source": [
    "# accuracy of deep learning model\n",
    "_, accuracy = model_5.evaluate(X_test, y_test_encoded)\n",
    "print(accuracy)"
   ]
  }
 ],
 "metadata": {
  "kernelspec": {
   "display_name": "Python 3",
   "language": "python",
   "name": "python3"
  },
  "language_info": {
   "codemirror_mode": {
    "name": "ipython",
    "version": 3
   },
   "file_extension": ".py",
   "mimetype": "text/x-python",
   "name": "python",
   "nbconvert_exporter": "python",
   "pygments_lexer": "ipython3",
   "version": "3.11.5"
  }
 },
 "nbformat": 4,
 "nbformat_minor": 2
}
