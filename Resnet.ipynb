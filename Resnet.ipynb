{
 "cells": [
  {
   "cell_type": "markdown",
   "id": "63f634ba",
   "metadata": {},
   "source": [
    "## Model subclassing use krke ResNet"
   ]
  },
  {
   "cell_type": "code",
   "execution_count": 1,
   "id": "c1290736",
   "metadata": {},
   "outputs": [
    {
     "ename": "NameError",
     "evalue": "name 'Model' is not defined",
     "output_type": "error",
     "traceback": [
      "\u001b[1;31m---------------------------------------------------------------------------\u001b[0m",
      "\u001b[1;31mNameError\u001b[0m                                 Traceback (most recent call last)",
      "Cell \u001b[1;32mIn[1], line 1\u001b[0m\n\u001b[1;32m----> 1\u001b[0m \u001b[38;5;28;01mclass\u001b[39;00m \u001b[38;5;21;01mResNet34\u001b[39;00m(Model):\n\u001b[0;32m      2\u001b[0m     \u001b[38;5;28;01mdef\u001b[39;00m \u001b[38;5;21m__init__\u001b[39m(\u001b[38;5;28mself\u001b[39m,):\n\u001b[0;32m      3\u001b[0m         \u001b[38;5;28msuper\u001b[39m(ResNet34, \u001b[38;5;28mself\u001b[39m)\u001b[38;5;241m.\u001b[39m\u001b[38;5;21m__init__\u001b[39m(name\u001b[38;5;241m=\u001b[39m\u001b[38;5;124m'\u001b[39m\u001b[38;5;124mresnet34\u001b[39m\u001b[38;5;124m'\u001b[39m)\n",
      "\u001b[1;31mNameError\u001b[0m: name 'Model' is not defined"
     ]
    }
   ],
   "source": [
    "class ResNet34(Model):\n",
    "    def __init__(self,):\n",
    "        super(ResNet34, self).__init__(name='resnet34')\n",
    "        \n",
    "        self.conv1 = CustomConv2D(64, 7, 2, padding='same')\n",
    "        self.maxpool = MaxPooling(3, 2)\n",
    "        \n",
    "        self.conv_2_1 = ResidualBlock(64)\n",
    "        self.conv_2_2 = ResidualBlock(64)\n",
    "        self.conv_2_3 = ResidualBlock(64)\n",
    "        \n",
    "        self.conv_3_1 = ResidualBlock(128, 2)\n",
    "        self.conv_3_2 = ResidualBlock(128)\n",
    "        self.conv_3_3 = ResidualBlock(128)\n",
    "        self.conv_3_4 = ResidualBlock(128)\n",
    "        \n",
    "        self.conv_4_1 = ResidualBlock(256, 2)\n",
    "        self.conv_4_2 = ResidualBlock(256)\n",
    "        self.conv_4_3 = ResidualBlock(256)\n",
    "        self.conv_4_4 = ResidualBlock(256)\n",
    "        self.conv_4_5 = ResidualBlock(256)\n",
    "        self.conv_4_6 = ResidualBlock(256)\n",
    "        \n",
    "        self.conv_5_1 = ResidualBlock(512, 2)\n",
    "        self.conv_5_2 = ResidualBlock(512)\n",
    "        self.conv_5_3 = ResidualBlock(512)\n",
    "        \n",
    "        self.global_pool = GlobalAveragePooling2D()\n",
    "        self.fc3 = Dense(CONFIGURATION['NUM_CLASSES'], activation='softmax')\n",
    "    def call(self, x):\n",
    "        x = self.conv1(x)\n",
    "        x = self.maxpool(x)\n",
    "        \n",
    "        x = self.conv_2_1(x)\n",
    "        x = self.conv_2_2(x)\n",
    "        x = self.conv_2_3(x)\n",
    "        \n",
    "        x = self.conv_3_1(x)\n",
    "        x = self.conv_3_2(x)\n",
    "        x = self.conv_3_3(x)\n",
    "        x = self.conv_3_4(x)\n",
    "        \n",
    "        x = self.conv_4_1(x)\n",
    "        x = self.conv_4_2(x)\n",
    "        x = self.conv_4_3(x)\n",
    "        x = self.conv_4_4(x)\n",
    "        x = self.conv_4_5(x)\n",
    "        x = self.conv_4_6(x)\n",
    "        \n",
    "        x = self.conv_5_1(x)\n",
    "        x = self.conv_5_2(x)\n",
    "        x = self.conv_5_3(x)\n",
    "        \n",
    "        x=self.global_pool(x)\n",
    "        \n",
    "        return self.fc3(x)"
   ]
  },
  {
   "cell_type": "code",
   "execution_count": 3,
   "id": "9016634b",
   "metadata": {},
   "outputs": [
    {
     "ename": "NameError",
     "evalue": "name 'Layer' is not defined",
     "output_type": "error",
     "traceback": [
      "\u001b[1;31m---------------------------------------------------------------------------\u001b[0m",
      "\u001b[1;31mNameError\u001b[0m                                 Traceback (most recent call last)",
      "Cell \u001b[1;32mIn[3], line 1\u001b[0m\n\u001b[1;32m----> 1\u001b[0m \u001b[38;5;28;01mclass\u001b[39;00m \u001b[38;5;21;01mResidualBlock\u001b[39;00m(Layer):\n\u001b[0;32m      2\u001b[0m     \u001b[38;5;28;01mdef\u001b[39;00m \u001b[38;5;21m__init__\u001b[39m(\u001b[38;5;28mself\u001b[39m, n_channels, n_strides  \u001b[38;5;241m=\u001b[39m\u001b[38;5;241m1\u001b[39m):\n\u001b[0;32m      3\u001b[0m         \u001b[38;5;28msuper\u001b[39m(ResidualBlock, \u001b[38;5;28mself\u001b[39m)\u001b[38;5;241m.\u001b[39m\u001b[38;5;21m__init__\u001b[39m(name\u001b[38;5;241m=\u001b[39m\u001b[38;5;124m'\u001b[39m\u001b[38;5;124mres_block\u001b[39m\u001b[38;5;124m'\u001b[39m)\n",
      "\u001b[1;31mNameError\u001b[0m: name 'Layer' is not defined"
     ]
    }
   ],
   "source": [
    "class ResidualBlock(Layer):\n",
    "    def __init__(self, n_channels, n_strides  =1):\n",
    "        super(ResidualBlock, self).__init__(name='res_block')\n",
    "        \n",
    "        self.dotted=(n_strides!=1)\n",
    "        self.custom_conv_1 =  CustomConv2D(n_channels, 3, n_strides, padding='same')\n",
    "        self.custom_conv_2 =  CustomConv2D(n_channels, 3, 1, padding='same')\n",
    "        self.activation = Activation('relu')\n",
    "        \n",
    "        if self.dotted:\n",
    "            self.custom_conv_3 = CustomConv2D(n_channels, 1, n_strides)\n",
    "    def call(self, input):\n",
    "        x=self.custom_conv_1(input)\n",
    "        x = self.custom_conv_2(x)\n",
    "        if self.dotted:# dotted layer hua toh result add kro vrna sirf input add kro\n",
    "            x_add = self.custom_conv_3(input)\n",
    "            x_add = Add()([x, x_add])\n",
    "        else:# sirf input add hua\n",
    "            x_add = Add()([x, input])\n",
    "        return self.activation(x_add)"
   ]
  },
  {
   "cell_type": "code",
   "execution_count": 4,
   "id": "0e4528d5",
   "metadata": {},
   "outputs": [
    {
     "ename": "NameError",
     "evalue": "name 'tf' is not defined",
     "output_type": "error",
     "traceback": [
      "\u001b[1;31m---------------------------------------------------------------------------\u001b[0m",
      "\u001b[1;31mNameError\u001b[0m                                 Traceback (most recent call last)",
      "Cell \u001b[1;32mIn[4], line 1\u001b[0m\n\u001b[1;32m----> 1\u001b[0m \u001b[38;5;28;01mclass\u001b[39;00m \u001b[38;5;21;01mCusotomConv2d\u001b[39;00m(tf\u001b[38;5;241m.\u001b[39mLayer):\n\u001b[0;32m      2\u001b[0m     \u001b[38;5;28;01mdef\u001b[39;00m \u001b[38;5;21m__init__\u001b[39m(\u001b[38;5;28mself\u001b[39m, n_filters, kernel_size, n_strides, padding\u001b[38;5;241m=\u001b[39m\u001b[38;5;124m'\u001b[39m\u001b[38;5;124mvalid\u001b[39m\u001b[38;5;124m'\u001b[39m):\n\u001b[0;32m      3\u001b[0m         \u001b[38;5;28msuper\u001b[39m(CustomConv2d, \u001b[38;5;28mself\u001b[39m)\u001b[38;5;241m.\u001b[39m\u001b[38;5;21m__init__\u001b[39m(name\u001b[38;5;241m=\u001b[39m\u001b[38;5;124m'\u001b[39m\u001b[38;5;124mcustom_conv2d\u001b[39m\u001b[38;5;124m'\u001b[39m)\n",
      "\u001b[1;31mNameError\u001b[0m: name 'tf' is not defined"
     ]
    }
   ],
   "source": [
    "class CusotomConv2d(tf.Layer):\n",
    "    def __init__(self, n_filters, kernel_size, n_strides, padding='valid'):\n",
    "        super(CustomConv2d, self).__init__(name='custom_conv2d')\n",
    "        \n",
    "        self.conv = Conv2d(filters = n_filters, kernel_size=kernel_size, activation='relu', strides=n_strides, padding=padding)\n",
    "        self.batch_norm = BatchNormalization()\n",
    "        \n",
    "    def call(self, x, training):\n",
    "        x=self.conv(x)\n",
    "        x=self.batch_norm(x)\n",
    "        \n",
    "        return x"
   ]
  }
 ],
 "metadata": {
  "kernelspec": {
   "display_name": "Python 3 (ipykernel)",
   "language": "python",
   "name": "python3"
  },
  "language_info": {
   "codemirror_mode": {
    "name": "ipython",
    "version": 3
   },
   "file_extension": ".py",
   "mimetype": "text/x-python",
   "name": "python",
   "nbconvert_exporter": "python",
   "pygments_lexer": "ipython3",
   "version": "3.11.5"
  }
 },
 "nbformat": 4,
 "nbformat_minor": 5
}
