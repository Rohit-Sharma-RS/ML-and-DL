{
 "cells": [
  {
   "cell_type": "code",
   "execution_count": 1,
   "metadata": {},
   "outputs": [
    {
     "ename": "ModuleNotFoundError",
     "evalue": "No module named 'streamlit'",
     "output_type": "error",
     "traceback": [
      "\u001b[1;31m---------------------------------------------------------------------------\u001b[0m",
      "\u001b[1;31mModuleNotFoundError\u001b[0m                       Traceback (most recent call last)",
      "Cell \u001b[1;32mIn[1], line 1\u001b[0m\n\u001b[1;32m----> 1\u001b[0m \u001b[38;5;28;01mimport\u001b[39;00m \u001b[38;5;21;01mstreamlit\u001b[39;00m \u001b[38;5;28;01mas\u001b[39;00m \u001b[38;5;21;01mst\u001b[39;00m\n\u001b[0;32m      2\u001b[0m \u001b[38;5;28;01mfrom\u001b[39;00m \u001b[38;5;21;01mstreamlit_chat\u001b[39;00m \u001b[38;5;28;01mimport\u001b[39;00m message\n\u001b[0;32m      3\u001b[0m \u001b[38;5;28;01mimport\u001b[39;00m \u001b[38;5;21;01mos\u001b[39;00m\n",
      "\u001b[1;31mModuleNotFoundError\u001b[0m: No module named 'streamlit'"
     ]
    }
   ],
   "source": [
    "import streamlit as st\n",
    "from streamlit_chat import message\n",
    "import os\n",
    "import dotenv\n",
    "from langchain_groq import ChatGroq\n",
    "\n",
    "\n",
    "dotenv.load_dotenv()\n",
    "groq_api_key = os.getenv('GROQ_API_KEY')\n",
    "\n",
    "\n",
    "llm = ChatGroq(model_name=\"llama-3.1-70b-versatile\", temperature=0)\n",
    "\n",
    "if 'messages' not in st.session_state:\n",
    "    st.session_state.messages = []\n",
    "\n",
    "\n",
    "st.markdown(\"\"\"\n",
    "<style>\n",
    "    .stApp { background-color: #1e1e1e; color: #fff; }\n",
    "    .stTextInput > div > div > input { background-color: #333; color: #fff; }\n",
    "    .stButton > button { background-color: #e50914; color: #fff; }\n",
    "    .chat-message { padding: 1rem; border-radius: 0.5rem; margin-bottom: 1rem; }\n",
    "    .chat-message.user { background-color: #444; text-align: right; }\n",
    "    .chat-message.bot { background-color: #222; text-align: left; }\n",
    "</style>\n",
    "\"\"\", unsafe_allow_html=True)\n",
    "\n",
    "\n",
    "st.title(\"🗨️ Simple AI Chatbot\")\n",
    "\n",
    "\n",
    "for msg in st.session_state.messages:\n",
    "    message(msg['content'], is_user=msg['is_user'])\n",
    "\n",
    "user_input = st.text_input(\"Type your message here...\", key=\"input\")\n",
    "\n",
    "\n",
    "if st.button(\"Send\") and user_input:\n",
    "    st.session_state.messages.append({\"content\": user_input, \"is_user\": True})\n",
    "\n",
    "    st.session_state.input = \"\"\n",
    "\n",
    "    try:\n",
    "        with st.spinner(\"Waiting for response...\"):\n",
    "            response = llm.invoke(user_input)\n",
    "        \n",
    "        st.session_state.messages.append({\"content\": response.content, \"is_user\": False})\n",
    "    except Exception as e:\n",
    "        st.error(f\"An error occurred: {str(e)}\")\n",
    "\n",
    "    st.experimental_rerun()"
   ]
  }
 ],
 "metadata": {
  "kernelspec": {
   "display_name": "Python 3",
   "language": "python",
   "name": "python3"
  },
  "language_info": {
   "codemirror_mode": {
    "name": "ipython",
    "version": 3
   },
   "file_extension": ".py",
   "mimetype": "text/x-python",
   "name": "python",
   "nbconvert_exporter": "python",
   "pygments_lexer": "ipython3",
   "version": "3.12.7"
  }
 },
 "nbformat": 4,
 "nbformat_minor": 2
}
